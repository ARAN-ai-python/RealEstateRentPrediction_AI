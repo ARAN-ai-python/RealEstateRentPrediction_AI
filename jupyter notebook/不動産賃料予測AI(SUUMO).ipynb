{
  "cells": [
    {
      "cell_type": "markdown",
      "metadata": {
        "id": "view-in-github",
        "colab_type": "text"
      },
      "source": [
        "<a href=\"https://colab.research.google.com/github/ARAN1218/RealEstateRentPrediction_AI/blob/main/jupyter%20notebook/%E4%B8%8D%E5%8B%95%E7%94%A3%E8%B3%83%E6%96%99%E4%BA%88%E6%B8%ACAI(SUUMO).ipynb\" target=\"_parent\"><img src=\"https://colab.research.google.com/assets/colab-badge.svg\" alt=\"Open In Colab\"/></a>"
      ]
    },
    {
      "cell_type": "code",
      "execution_count": null,
      "metadata": {
        "id": "n3_4vTHJSrmJ"
      },
      "outputs": [],
      "source": [
        "from bs4 import BeautifulSoup\n",
        "import requests\n",
        "from time import sleep\n",
        "from pprint import pprint\n",
        "import json\n",
        "\n",
        "import numpy as np\n",
        "import pandas as pd\n",
        "pd.set_option('display.max_rows',None)\n",
        "from sklearn.preprocessing import LabelEncoder\n",
        "from sklearn.linear_model import LinearRegression\n",
        "from sklearn.metrics import mean_absolute_error\n",
        "from sklearn.metrics import mean_squared_error\n",
        "from sklearn.model_selection import KFold\n",
        "import xgboost as xgb"
      ]
    },
    {
      "cell_type": "code",
      "execution_count": null,
      "metadata": {
        "id": "8dkVQsylSrmR"
      },
      "outputs": [],
      "source": [
        "#endは偶数\n",
        "start = 1\n",
        "end = 20\n",
        "place = '相模原'\n",
        "\n",
        "urls = {\n",
        "    '相模原':\"https://suumo.jp/jj/common/ichiran/JJ901FC004/?ar=030&ta=14&sc=14151&sc=14152&sc=14153&kwd=&cb=0.0&ct=9999999&kb=0&kt=9999999&km=1&xb=0&xt=9999999&et=9999999&cn=9999999&newflg=0&pn={}\",\n",
        "    '渋谷':\"https://suumo.jp/jj/common/ichiran/JJ901FC004/?ar=030&ta=13&sc=13113&kwd=&cb=0.0&ct=9999999&kb=0&kt=9999999&km=1&xb=0&xt=9999999&et=9999999&cn=9999999&newflg=0&pn={}\",\n",
        "    '新宿':\"https://suumo.jp/jj/common/ichiran/JJ901FC004/?ar=030&ta=13&sc=13104&kwd=&cb=0.0&ct=9999999&kb=0&kt=9999999&km=1&xb=0&xt=9999999&et=9999999&cn=9999999&newflg=0&pn={}\"\n",
        "}\n",
        "#urls[place]\n",
        "for i in range(start,end+1,2):\n",
        "    print(i)\n",
        "    \n",
        "for i in range(start+1,end+1,2):\n",
        "    print(i)"
      ]
    },
    {
      "cell_type": "code",
      "execution_count": null,
      "metadata": {
        "id": "YHpbEUGHSrmT"
      },
      "outputs": [],
      "source": [
        "#相模原orの物件の賃料データスクレイピングの関数\n",
        "#Real_Estate_Data_Scraping\n",
        "def REDS(start,end,place):\n",
        "    \n",
        "    #初期値\n",
        "    d_list = []\n",
        "    url = urls[place]\n",
        "    \n",
        "    for i in range(start,end+1,2):\n",
        "    \n",
        "        #ページを遷移させる\n",
        "        target_url = url.format(i)\n",
        "\n",
        "        #Requestsを用いてtarget_urlにアクセスする\n",
        "        r = requests.get(target_url)\n",
        "\n",
        "        #サーバー負荷軽減の為、ループ毎に1秒間隔を空ける\n",
        "        sleep(1)\n",
        "\n",
        "        #取得したHTMLをBeautifulSoupで解析する\n",
        "        soup = BeautifulSoup(r.text)\n",
        "\n",
        "        contents = soup.find_all('div',class_='cassettebox js-normalLink js-cassetLink')\n",
        "        for content in contents:\n",
        "\n",
        "            rows = content.find_all('table',class_='listtable')\n",
        "            #title = content.find('a',class_='js-cassetLinkHref').text.split()[1]\n",
        "            address = rows[0].find_all('div',class_='infodatabox-box-txt')[0].text\n",
        "            station = rows[0].find_all('div',class_='infodatabox-box-txt')[1].text\n",
        "            access = rows[0].find_all('div',class_='infodatabox-box-txt')[2].text\n",
        "\n",
        "            #下の行のデータを取得\n",
        "            r_fees = rows[1].find_all('dd',class_='infodatabox-details-txt')[0].text[:-2]\n",
        "            mc_fees = rows[1].find_all('dd',class_='infodatabox-details-txt')[1].text[:-1]\n",
        "            k_fees = rows[1].find_all('dd',class_='infodatabox-details-txt')[2].text.split('/')[0]\n",
        "            s_fees = rows[1].find_all('dd',class_='infodatabox-details-txt')[2].text.split('/')[1][:-2]\n",
        "            area = rows[1].find_all('dd',class_='infodatabox-details-txt')[3].text[:-2]\n",
        "            layout = rows[1].find_all('dd',class_='infodatabox-details-txt')[4].text\n",
        "            age = rows[1].find_all('div',class_='infodatabox-box-txt')[2].text\n",
        "\n",
        "            #取得した各種データを辞書dに格納する\n",
        "            d = {\n",
        "            '住所':address,\n",
        "            '路線':station,\n",
        "            '交通':access,\n",
        "            '賃料':r_fees,\n",
        "            '管理共益費':mc_fees,\n",
        "            '礼金':k_fees,\n",
        "            '敷金':s_fees,\n",
        "            '専有面積':area,\n",
        "            '間取り':layout,\n",
        "            '築年数':age\n",
        "            }\n",
        "\n",
        "            #辞書dのデータをリストd_listに格納する\n",
        "            d_list.append(d)\n",
        "            \n",
        "            #重複したデータを削除する\n",
        "            d_list = list(map(json.loads,set(map(json.dumps,d_list))))\n",
        "\n",
        "        #進捗を報告させる\n",
        "        print(\"d_list's progress:\",i,\"page　　\",len(d_list))\n",
        "        print(target_url)\n",
        "        \n",
        "        #データ数が100以上でない場合、スクレイピングを延長する\n",
        "        #if(((i==end-1) or (i==end)) and (len(d_list) < 100)):\n",
        "            #print('extended!')\n",
        "            #end+=2\n",
        "    \n",
        "    print('Scraping Completed!')\n",
        "    return d_list\n"
      ]
    },
    {
      "cell_type": "code",
      "execution_count": null,
      "metadata": {
        "id": "N4lD3JWvSrmV"
      },
      "outputs": [],
      "source": [
        "d_list = REDS(start,end,place)"
      ]
    },
    {
      "cell_type": "code",
      "execution_count": null,
      "metadata": {
        "id": "TQcgvIm5SrmW"
      },
      "outputs": [],
      "source": [
        "df = pd.DataFrame(d_list)\n",
        "df.head(10)"
      ]
    },
    {
      "cell_type": "code",
      "execution_count": null,
      "metadata": {
        "scrolled": false,
        "id": "sCczMPFESrmX"
      },
      "outputs": [],
      "source": [
        "d_t_list = REDS(start+1,end+1,place)"
      ]
    },
    {
      "cell_type": "code",
      "execution_count": null,
      "metadata": {
        "id": "6tMCKjYjSrmX"
      },
      "outputs": [],
      "source": [
        "df_test = pd.DataFrame(d_t_list)\n",
        "df_test.head(10)"
      ]
    },
    {
      "cell_type": "code",
      "execution_count": null,
      "metadata": {
        "id": "IoH4M56PSrmY"
      },
      "outputs": [],
      "source": [
        "pprint(d_list)"
      ]
    },
    {
      "cell_type": "code",
      "execution_count": null,
      "metadata": {
        "id": "2IcNjBf1SrmY"
      },
      "outputs": [],
      "source": [
        "#dfの異なるデータの数を確認する\n",
        "#print(len(df.住所.unique()))\n",
        "#print(len(df.専有面積.unique()))\n",
        "#print(len(df.交通.unique()))\n",
        "print(df.duplicated().sum())\n",
        "print(len(df))"
      ]
    },
    {
      "cell_type": "code",
      "execution_count": null,
      "metadata": {
        "id": "DDgMtrgXSrmZ"
      },
      "outputs": [],
      "source": [
        "#重複した行を削除してみる\n",
        "df = df.drop_duplicates()\n",
        "df.head(300)"
      ]
    },
    {
      "cell_type": "code",
      "execution_count": null,
      "metadata": {
        "id": "kHPIy_AZSrma"
      },
      "outputs": [],
      "source": [
        "#df,df_test内の余計な文字(\\n等)を消去する\n",
        "df['礼金'] = df['礼金'].str.replace(r'\\(.+\\)','')\n",
        "for element in ['住所','交通','専有面積','間取り','築年数','礼金','敷金']:\n",
        "    df[element] = df[element].str.translate(str.maketrans({'-':'','\\r':'','\\n':'','\\t':'','バ':'','ス':'','分':'','徒':'','歩':'','停':'','―':'','築':'','年':'','新':'','万':'','(':'','円':''}))\n",
        "\n",
        "\n",
        "df_test['礼金'] = df_test['礼金'].str.replace(r'\\(.+\\)','')\n",
        "for element in ['住所','交通','専有面積','間取り','築年数','礼金','敷金']:\n",
        "    df_test[element] = df_test[element].str.translate(str.maketrans({'-':'','\\r':'','\\n':'','\\t':'','バ':'','ス':'','分':'','徒':'','歩':'','停':'','―':'','築':'','年':'','新':'','万':'','(':'','円':''}))\n",
        "df.head(100)"
      ]
    },
    {
      "cell_type": "code",
      "execution_count": null,
      "metadata": {
        "id": "Zl8Vo3KZSrma"
      },
      "outputs": [],
      "source": [
        "'''\n",
        "#df内の余計な文字(\\n等)を消去する\n",
        "df['住所'] = df['住所'].str.translate(str.maketrans({'\\r':'','\\n':'','\\t':''}))\n",
        "df['交通'] = df['交通'].str.translate(str.maketrans({'バ':'','ス':'','分':'','徒':'','歩':'','停':'','―':''}))\n",
        "df['専有面積'] = df['専有面積'].str.translate(str.maketrans({'\\r':'','\\n':'','\\t':''}))\n",
        "df['間取り'] = df['間取り'].str.translate(str.maketrans({'\\r':'','\\n':'','\\t':''}))\n",
        "df['築年数'] = df['築年数'].str.translate(str.maketrans({'\\r':'','\\n':'','\\t':'','築':'','年':'','新':''}))\n",
        "df['礼金'] = df['礼金'].str.replace(r'\\(.+\\)','')\n",
        "df['礼金'] = df['礼金'].str.translate(str.maketrans({'-':'','万':'','(':'','円':''}))\n",
        "df['敷金'] = df['敷金'].str.translate(str.maketrans({'-':'','万':'','(':''}))\n",
        "df.head(10)\n",
        "'''"
      ]
    },
    {
      "cell_type": "code",
      "execution_count": null,
      "metadata": {
        "id": "ShFKhNxCSrmb"
      },
      "outputs": [],
      "source": [
        "#ラベルエンコーディングを行い、文字列を数値化する\n",
        "LE1,LE2,LE3 = LabelEncoder(),LabelEncoder(),LabelEncoder()\n",
        "#for i in ['住所','路線','間取り']:\n",
        "    #df[i] = LE.fit_transform(df[i])\n",
        "LE_df = pd.concat([df,df_test])\n",
        "LE1.fit(LE_df['住所'])\n",
        "LE2.fit(LE_df['路線'])\n",
        "LE3.fit(LE_df['間取り'])\n",
        "\n",
        "df['住所'] = LE1.transform(df['住所'])\n",
        "df['路線'] = LE2.transform(df['路線'])\n",
        "df['間取り'] = LE3.transform(df['間取り'])\n",
        "df.head(10)"
      ]
    },
    {
      "cell_type": "code",
      "execution_count": null,
      "metadata": {
        "scrolled": false,
        "id": "tLqKF65gSrmc"
      },
      "outputs": [],
      "source": [
        "adressC,stationC,layoutC = LE1.classes_,LE2.classes_,LE3.classes_\n",
        "print(adressC,'\\n',stationC,'\\n',layoutC)"
      ]
    },
    {
      "cell_type": "code",
      "execution_count": null,
      "metadata": {
        "id": "R2CrPexaSrmc"
      },
      "outputs": [],
      "source": [
        "#欠損値をどうにかする\n",
        "df.replace('',0,inplace=True)\n",
        "df.head(10)"
      ]
    },
    {
      "cell_type": "code",
      "execution_count": null,
      "metadata": {
        "id": "tWA2M9RKSrmd"
      },
      "outputs": [],
      "source": [
        "df.head(len(df))"
      ]
    },
    {
      "cell_type": "code",
      "execution_count": null,
      "metadata": {
        "id": "3RJ3w_EVSrmd"
      },
      "outputs": [],
      "source": [
        "#データ型をfloat64で統一する。\n",
        "df = df.astype('float64')\n",
        "#df['礼金'] = df['礼金'].astype('float64')\n",
        "print(df.dtypes)\n",
        "df.head(10)"
      ]
    },
    {
      "cell_type": "code",
      "execution_count": null,
      "metadata": {
        "id": "6UOgUJQfSrme"
      },
      "outputs": [],
      "source": [
        "#不動産賃料予測AIの学習\n",
        "#Real_Estate_Rent_Learning\n",
        "def RERL(df):\n",
        "    #データを説明変数と目的変数に分ける\n",
        "    target = df['賃料']\n",
        "    train = df.drop(['賃料'],axis=1)\n",
        "    \n",
        "    #ホールドアウト法で学習データとテストデータに分ける\n",
        "    kf = KFold(n_splits=4,shuffle=True,random_state=71)\n",
        "    tr_idx,va_idx = list(kf.split(train))[0]\n",
        "    tr_x,va_x = train.iloc[tr_idx],train.iloc[va_idx]\n",
        "    tr_y,va_y = target.iloc[tr_idx],target.iloc[va_idx]\n",
        "    \n",
        "    #データ型をXGBOOST用に適合させる\n",
        "    dtrain = xgb.DMatrix(tr_x,label=tr_y)\n",
        "    dvalid = xgb.DMatrix(va_x,label=va_y)\n",
        "    dtest = xgb.DMatrix(train)\n",
        "    \n",
        "    #パラメータ準備\n",
        "    params = {'objective':'reg:squarederror','silent':1,'random_state':71}\n",
        "    num_round = 100\n",
        "\n",
        "    #XGBOOSTモデルに機械学習\n",
        "    watchlist = [(dtrain,'train'),(dvalid,'eval')]\n",
        "    model = xgb.train(params,dtrain,num_round,early_stopping_rounds=10,evals=watchlist)\n",
        "    va_pred = model.predict(dvalid)\n",
        "    \n",
        "    #テストデータとその予測結果を表示\n",
        "    print(list(va_y))\n",
        "    print(va_pred)\n",
        "    \n",
        "    #モデルの性能を表示\n",
        "    print('MAE:',mean_absolute_error(va_y,va_pred))\n",
        "    print('MSE:',mean_squared_error(va_y,va_pred))\n",
        "    print('RMSE:',np.sqrt(mean_squared_error(va_y,va_pred)))\n",
        "    \n",
        "    return model\n"
      ]
    },
    {
      "cell_type": "code",
      "execution_count": null,
      "metadata": {
        "scrolled": false,
        "id": "lzeRKn1JSrme"
      },
      "outputs": [],
      "source": [
        "model = RERL(df)"
      ]
    },
    {
      "cell_type": "code",
      "execution_count": null,
      "metadata": {
        "id": "uYRyIyx-Srmf"
      },
      "outputs": [],
      "source": [
        "df_test.head(10)"
      ]
    },
    {
      "cell_type": "code",
      "execution_count": null,
      "metadata": {
        "id": "NeNxizc9Srmg"
      },
      "outputs": [],
      "source": [
        "#学習データを作成する関数\n",
        "#Real_Estate_Data_Preprocessing\n",
        "def REDP(d_list):\n",
        "    #データフレームに変換\n",
        "    df = pd.DataFrame(d_list)\n",
        "    \n",
        "    #df内の余計な文字(\\n等)を消去する\n",
        "    df['礼金'] = df['礼金'].str.replace(r'\\(.+\\)','')\n",
        "    for element in ['住所','交通','専有面積','間取り','築年数','礼金','敷金']:\n",
        "        df[element] = df[element].str.translate(str.maketrans({'-':'','\\r':'','\\n':'','\\t':'','バ':'','ス':'','分':'','徒':'','歩':'','停':'','―':'','築':'','年':'','新':'','万':'','(':'','円':''}))\n",
        "    \n",
        "    #ラベルエンコーディングを行い、文字列を数値化する\n",
        "    #ラベルエンコーディングのモデルを初期化していたから、本来の力を発揮できていなかった\n",
        "    #LE = LabelEncoder()\n",
        "    df['住所'] = LE1.transform(df['住所'])\n",
        "    df['路線'] = LE2.transform(df['路線'])\n",
        "    df['間取り'] = LE3.transform(df['間取り'])\n",
        "    \n",
        "    #欠損値をどうにかする\n",
        "    df.replace('',0,inplace=True)\n",
        "    \n",
        "    #データ型をfloat64で統一する。\n",
        "    df = df.astype('float64')\n",
        "    \n",
        "    #入力データと正解データに分ける\n",
        "    #Fact = df['賃料']\n",
        "    #Input = df.drop(['賃料'],axis=1)\n",
        "    \n",
        "    return df\n"
      ]
    },
    {
      "cell_type": "code",
      "execution_count": null,
      "metadata": {
        "scrolled": false,
        "id": "78MYMJ9WSrmh"
      },
      "outputs": [],
      "source": [
        "df_t = REDP(d_t_list)\n",
        "df_t.head(10)"
      ]
    },
    {
      "cell_type": "code",
      "execution_count": null,
      "metadata": {
        "id": "gYOK5IEJSrmi"
      },
      "outputs": [],
      "source": [
        "print('df_test:{}'.format(len(df_test['住所'].unique())))\n",
        "print('df:{}'.format(len(df['住所'].unique())))"
      ]
    },
    {
      "cell_type": "code",
      "execution_count": null,
      "metadata": {
        "id": "AzaNGP17Srmi"
      },
      "outputs": [],
      "source": [
        "#SBRLで作ったXGBOOSTモデルを用いて、df_testを入力として賃料を予測する関数を作る\n",
        "#Real_Estate_Rent_Divided_Prediction\n",
        "def RERDP(df):\n",
        "    #説明変数と目的変数の分離\n",
        "    df_fact = df['賃料']\n",
        "    df_input = df.drop(['賃料'],axis=1)\n",
        "    \n",
        "    #予測値の生成\n",
        "    df_input = xgb.DMatrix(df_input)\n",
        "    pred = model.predict(df_input)\n",
        "    \n",
        "    #実値と予測値の表示\n",
        "    #df_fact = df_fact.rename({name:'実値'})\n",
        "    df_pred = pd.DataFrame(pred,columns=['予測値'])\n",
        "    df_final = pd.concat([df_fact,df_pred],axis=1)\n",
        "    print(df_final)\n",
        "    \n",
        "    #モデルの性能を表示\n",
        "    print('MAE:',mean_absolute_error(df_fact,df_pred))\n",
        "    print('MSE:',mean_squared_error(df_fact,df_pred))\n",
        "    print('RMSE:',np.sqrt(mean_squared_error(df_fact,df_pred)))\n"
      ]
    },
    {
      "cell_type": "code",
      "execution_count": null,
      "metadata": {
        "scrolled": false,
        "id": "dgZIsx70Srmk"
      },
      "outputs": [],
      "source": [
        "RERDP(df_t)"
      ]
    },
    {
      "cell_type": "code",
      "execution_count": null,
      "metadata": {
        "id": "L7EsYxT7Srml"
      },
      "outputs": [],
      "source": [
        "adressC,stationC,layoutC = LE1.classes_,LE2.classes_,LE3.classes_\n",
        "print(adressC,'\\n','\\n',stationC,'\\n','\\n',layoutC)"
      ]
    },
    {
      "cell_type": "code",
      "execution_count": null,
      "metadata": {
        "id": "OPmyzewSSrmm"
      },
      "outputs": [],
      "source": [
        "#お待ちかねのオリジナル予測！\n",
        "#学習した範囲内の任意のデータを入力して予測できる！\n",
        "#Real_Estate_Own_Data_Prediction\n",
        "def REODP(address,station,access,mc_fees,k_fees,s_fees,area,layout,age):\n",
        "    d_try = {\n",
        "        '住所':address,\n",
        "        '路線':station,\n",
        "        '交通':access,\n",
        "        '管理共益費':mc_fees,\n",
        "        '礼金':k_fees,\n",
        "        '敷金':s_fees,\n",
        "        '専有面積':area,\n",
        "        '間取り':layout,\n",
        "        '築年数':age\n",
        "    }\n",
        "    df_try = pd.DataFrame(d_try,index=['own'])\n",
        "    display(df_try)\n",
        "\n",
        "    df_try.住所 = LE1.transform(df_try.住所)\n",
        "    df_try.路線 = LE2.transform(df_try.路線)\n",
        "    df_try.間取り = LE3.transform(df_try.間取り)\n",
        "    display(df_try)\n",
        "    \n",
        "    df_try = df_try.astype('float64')\n",
        "    df_try = xgb.DMatrix(df_try)\n",
        "    \n",
        "    return print(model.predict(df_try))\n"
      ]
    },
    {
      "cell_type": "code",
      "execution_count": null,
      "metadata": {
        "id": "xhzxpb5sSrmn"
      },
      "outputs": [],
      "source": [
        "REODP(\n",
        "    address=''\n",
        "    ,station=''\n",
        "    ,access=0\n",
        "    ,mc_fees=0\n",
        "    ,k_fees=0\n",
        "    ,s_fees=0\n",
        "    ,area=0\n",
        "    ,layout=''\n",
        "    ,age=0\n",
        ")"
      ]
    }
  ],
  "metadata": {
    "kernelspec": {
      "display_name": "Python 3",
      "language": "python",
      "name": "python3"
    },
    "language_info": {
      "codemirror_mode": {
        "name": "ipython",
        "version": 3
      },
      "file_extension": ".py",
      "mimetype": "text/x-python",
      "name": "python",
      "nbconvert_exporter": "python",
      "pygments_lexer": "ipython3",
      "version": "3.7.4"
    },
    "colab": {
      "name": "不動産賃料予測AI(SUUMO).ipynb",
      "provenance": [],
      "include_colab_link": true
    }
  },
  "nbformat": 4,
  "nbformat_minor": 0
}